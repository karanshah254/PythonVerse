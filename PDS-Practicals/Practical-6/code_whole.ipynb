{
 "cells": [
  {
   "cell_type": "code",
   "execution_count": 24,
   "metadata": {},
   "outputs": [
    {
     "name": "stdout",
     "output_type": "stream",
     "text": [
      "True\n",
      "True\n",
      "False\n",
      "False\n",
      "True\n",
      "True\n",
      "False\n",
      "False\n",
      "[ True  True False False False]\n",
      "[False False False  True  True]\n",
      "[ True  True  True False False]\n",
      "[False False  True  True  True]\n",
      "[[17 25]\n",
      " [43 57]]\n"
     ]
    }
   ],
   "source": [
    "import numpy as np\n",
    "\n",
    "# create a numpy array\n",
    "array = np.array([1, 2, 3, 4, 5], dtype=int)\n",
    "\n",
    "\n",
    "# numpy array operations\n",
    "print(array.any())  # True\n",
    "print(array.all())  # True\n",
    "print(np.isnan(array).any())  # False\n",
    "print(np.isinf(array).any())  # False\n",
    "print(np.isfinite(array).all())  # False\n",
    "print(np.zeros(array)) # [0 0 0 0 0 0]\n",
    "print(np.isreal(array).all())  # True\n",
    "print(np.iscomplex(array).all())  # False\n",
    "print(np.isscalar(array))  # False\n",
    "print(np.less(array, 3))  # [ True  True False False False]\n",
    "print(np.greater(array, 3))  # [False False False  True  True]\n",
    "print(np.less_equal(array, 3))  # [ True  True  True False False]\n",
    "print(np.greater_equal(array, 3))  # [False False  True  True  True]\n",
    "\n",
    "\n",
    "# create an array using arrange() or linspace()\n",
    "array1 = np.arange(1, 5, 1)  # Adjusted to have 4 elements\n",
    "\n",
    "# reshape the array\n",
    "array1 = array1.reshape(2, 2)\n",
    "\n",
    "# use randint() to create an array of random integers\n",
    "array2 = np.random.randint(1, 10, 4).reshape(2, 2)  # Reshape to (2, 2)\n",
    "\n",
    "# perform matrix multiplication\n",
    "result = np.dot(array1, array2)\n",
    "print(result)"
   ]
  }
 ],
 "metadata": {
  "kernelspec": {
   "display_name": "Python 3",
   "language": "python",
   "name": "python3"
  },
  "language_info": {
   "codemirror_mode": {
    "name": "ipython",
    "version": 3
   },
   "file_extension": ".py",
   "mimetype": "text/x-python",
   "name": "python",
   "nbconvert_exporter": "python",
   "pygments_lexer": "ipython3",
   "version": "3.12.0"
  }
 },
 "nbformat": 4,
 "nbformat_minor": 2
}
