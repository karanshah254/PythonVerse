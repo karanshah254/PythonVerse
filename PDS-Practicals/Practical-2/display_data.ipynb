{
 "cells": [
  {
   "cell_type": "code",
   "execution_count": null,
   "metadata": {},
   "outputs": [],
   "source": [
    "%pip install pandas"
   ]
  },
  {
   "cell_type": "code",
   "execution_count": 1,
   "metadata": {},
   "outputs": [
    {
     "name": "stdout",
     "output_type": "stream",
     "text": [
      "    Index First Name Last Name  Gender  Phone Number    Country\n",
      "0       1    Charlie    Garcia    Male  +30-855-8901  Australia\n",
      "1       2        Bob     Brown  Female  +11-843-3416    Germany\n",
      "2       3        Eva    Garcia  Female  +74-918-4232     France\n",
      "3       4      Alice    Taylor    Male  +57-571-8190      India\n",
      "4       5    Charlie  Williams    Male   +9-579-1701  Australia\n",
      "..    ...        ...       ...     ...           ...        ...\n",
      "65     66        Bob     Smith    Male  +30-555-9240  Australia\n",
      "66     67        Eva     Jones  Female  +32-597-1768         UK\n",
      "67     68       Jane    Miller    Male  +23-178-7380  Australia\n",
      "68     69        Bob  Williams  Female  +14-421-7929        USA\n",
      "69     70       Jane    Miller  Female  +97-281-9195     France\n",
      "\n",
      "[70 rows x 6 columns]\n"
     ]
    }
   ],
   "source": [
    "import pandas as pd\n",
    "\n",
    "dataset = pd.read_csv('generated_data.csv')\n",
    "print(dataset)"
   ]
  },
  {
   "cell_type": "code",
   "execution_count": null,
   "metadata": {},
   "outputs": [],
   "source": []
  }
 ],
 "metadata": {
  "kernelspec": {
   "display_name": "Python 3",
   "language": "python",
   "name": "python3"
  },
  "language_info": {
   "codemirror_mode": {
    "name": "ipython",
    "version": 3
   },
   "file_extension": ".py",
   "mimetype": "text/x-python",
   "name": "python",
   "nbconvert_exporter": "python",
   "pygments_lexer": "ipython3",
   "version": "3.12.0"
  }
 },
 "nbformat": 4,
 "nbformat_minor": 2
}
