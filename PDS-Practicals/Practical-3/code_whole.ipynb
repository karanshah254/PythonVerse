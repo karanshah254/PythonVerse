{
 "cells": [
  {
   "cell_type": "code",
   "execution_count": null,
   "metadata": {},
   "outputs": [],
   "source": [
    "# import pandas library\n",
    "import pandas as pd\n",
    "import matplotlib.pyplot as plt\n",
    "import numpy as np\n",
    "\n",
    "# load the data\n",
    "dataframe = pd.read_csv('sample_data_100_records.csv')\n",
    "\n",
    "# use of head, tail and info functions\n",
    "print(dataframe.head())\n",
    "print(dataframe.tail())\n",
    "print(dataframe.info())\n",
    "\n",
    "# slice and dice the data\n",
    "print(dataframe.loc[0:5, 'Name'])\n",
    "\n",
    "# filter the data using boolean indexing\n",
    "print(dataframe[dataframe[\"Name\"] == \"Jane Anderson\"])\n",
    "\n",
    "# use of groupby function\n",
    "print(dataframe.groupby('Name').count())\n",
    "print(dataframe.groupby('Age').sum())\n",
    "\n",
    "\n",
    "# visualize the data\n",
    "plt.plot(dataframe.groupby('Age').count())\n",
    "plt.show()"
   ]
  },
  {
   "cell_type": "code",
   "execution_count": null,
   "metadata": {},
   "outputs": [],
   "source": [
    "# split the data into training and test data\n",
    "from sklearn.model_selection import train_test_split\n",
    "train, test = train_test_split(dataframe, test_size=0.2)\n",
    "print(train)"
   ]
  },
  {
   "cell_type": "code",
   "execution_count": null,
   "metadata": {},
   "outputs": [],
   "source": [
    "# merge the data\n",
    "dataframe1 = pd.read_csv('sample_data_100_records.csv')\n",
    "dataframe2 = pd.read_csv('sample_data_100_records.csv')\n",
    "print(pd.merge(dataframe1, dataframe2, on='Name'))"
   ]
  },
  {
   "cell_type": "code",
   "execution_count": null,
   "metadata": {},
   "outputs": [],
   "source": [
    "# dictionary of lists\n",
    "dict = {\n",
    "    \"First Score\": [100, 90, np.nan, 95],\n",
    "    \"Second Score\": [30, 45, 56, np.nan],\n",
    "    \"Third Score\": [np.nan, 40, 80, 98],\n",
    "}\n",
    "\n",
    "# creating a dataframe from list\n",
    "df = pd.DataFrame(dict)\n",
    "\n",
    "# using isnull() function\n",
    "df.isnull()"
   ]
  }
 ],
 "metadata": {
  "kernelspec": {
   "display_name": "Python 3",
   "language": "python",
   "name": "python3"
  },
  "language_info": {
   "codemirror_mode": {
    "name": "ipython",
    "version": 3
   },
   "file_extension": ".py",
   "mimetype": "text/x-python",
   "name": "python",
   "nbconvert_exporter": "python",
   "pygments_lexer": "ipython3",
   "version": "3.12.0"
  }
 },
 "nbformat": 4,
 "nbformat_minor": 2
}
